{
 "cells": [
  {
   "cell_type": "code",
   "execution_count": 70,
   "metadata": {},
   "outputs": [],
   "source": [
    "import pandas as pd\n",
    "import numpy as np\n",
    "import matplotlib.pyplot as plt\n",
    "import seaborn as sns\n",
    "sns.set(style=\"whitegrid\")\n",
    "import matplotlib.pyplot as plt\n",
    "%matplotlib inline\n",
    "from sklearn.decomposition import PCA\n",
    "from sklearn import metrics\n",
    "\n",
    "from sklearn.model_selection import train_test_split\n",
    "from sklearn.naive_bayes import MultinomialNB\n",
    "from sklearn.ensemble import RandomForestClassifier\n",
    "from sklearn.naive_bayes import GaussianNB\n",
    "from sklearn.ensemble import AdaBoostClassifier\n",
    "from sklearn.tree import DecisionTreeClassifier\n",
    "from sklearn.svm import SVC\n",
    "from sklearn.metrics import confusion_matrix\n",
    "from sklearn.metrics import classification_report\n",
    "\n",
    "\n"
   ]
  },
  {
   "cell_type": "code",
   "execution_count": null,
   "metadata": {},
   "outputs": [],
   "source": [
    "\n",
    "# Descrição do DataSet\n",
    "# nome: Glass Identification ( Identificação de Vidro)\n",
    "# Volume de dados: 213 amostras\n",
    "# Descrição:\n",
    "\n",
    "# O estudo da classificação dos tipos de vidro foi motivado pela investigação criminológica, pois fornece\n",
    "# evidências  nessas investigações forenses\n",
    "# Na cena do crime, o vidro deixado pode ser usado como prova se for corretamente identificado.\n",
    "# O conjunto de dados é comumente usado para demonstrar algoritmos de classificação de aprendizado de máquina em ambientes acadêmicos.\n",
    "\n",
    "# Objetivo\n",
    "\n",
    "# O objetivo é prever com base na análise dos componentes quimicos\n",
    "# em qual classe o tipo de vidro se encontra.\n",
    "\"\"\"\n",
    "Type of glass: (class attribute)\n",
    "      -- 1 building_windows_float_processed\n",
    "      -- 2 building_windows_non_float_processed\n",
    "      -- 3 vehicle_windows_float_processed\n",
    "      -- 4 vehicle_windows_non_float_processed (none in this database)\n",
    "      -- 5 containers\n",
    "      -- 6 tableware\n",
    "      -- 7 headlamps\n",
    "Class Distribution: (out of 214 total instances)\n",
    "    -- 163 Window glass (building windows and vehicle windows)\n",
    "       -- 87 float processed  \n",
    "          -- 70 building windows\n",
    "          -- 17 vehicle windows\n",
    "       -- 76 non-float processed\n",
    "          -- 76 building windows\n",
    "          -- 0 vehicle windows\n",
    "    -- 51 Non-window glass\n",
    "       -- 13 containers\n",
    "       -- 9 tableware\n",
    "       -- 29 headlamps\n",
    "\"\"\"\n",
    "# Colunas\n",
    "#1 - ID\n",
    "# 2 - Indice Refreativo \n",
    "#3 - Sodio\n",
    "#4 - Magnesio\n",
    "#5 - Aluminio\n",
    "#6 -  Silicone\n",
    "#7 - Potassio\n",
    "#8 - Calcio\n",
    "#9 - Barium\n",
    "#10 - Ferro\n",
    "#11 - Tipo\n"
   ]
  },
  {
   "cell_type": "code",
   "execution_count": 99,
   "metadata": {
    "scrolled": false
   },
   "outputs": [
    {
     "name": "stdout",
     "output_type": "stream",
     "text": [
      "(213, 11)\n",
      "     id  indice_refrativo  sodio  Magnesio  Aluminio  Silicone  Potasio  \\\n",
      "0     2           1.51761  13.89      3.60      1.36     72.73     0.48   \n",
      "1     3           1.51618  13.53      3.55      1.54     72.99     0.39   \n",
      "2     4           1.51766  13.21      3.69      1.29     72.61     0.57   \n",
      "3     5           1.51742  13.27      3.62      1.24     73.08     0.55   \n",
      "4     6           1.51596  12.79      3.61      1.62     72.97     0.64   \n",
      "5     7           1.51743  13.30      3.60      1.14     73.09     0.58   \n",
      "6     8           1.51756  13.15      3.61      1.05     73.24     0.57   \n",
      "7     9           1.51918  14.04      3.58      1.37     72.08     0.56   \n",
      "8    10           1.51755  13.00      3.60      1.36     72.99     0.57   \n",
      "9    11           1.51571  12.72      3.46      1.56     73.20     0.67   \n",
      "10   12           1.51763  12.80      3.66      1.27     73.01     0.60   \n",
      "11   13           1.51589  12.88      3.43      1.40     73.28     0.69   \n",
      "12   14           1.51748  12.86      3.56      1.27     73.21     0.54   \n",
      "13   15           1.51763  12.61      3.59      1.31     73.29     0.58   \n",
      "14   16           1.51761  12.81      3.54      1.23     73.24     0.58   \n",
      "15   17           1.51784  12.68      3.67      1.16     73.11     0.61   \n",
      "16   18           1.52196  14.36      3.85      0.89     71.36     0.15   \n",
      "17   19           1.51911  13.90      3.73      1.18     72.12     0.06   \n",
      "18   20           1.51735  13.02      3.54      1.69     72.73     0.54   \n",
      "19   21           1.51750  12.82      3.55      1.49     72.75     0.54   \n",
      "20   22           1.51966  14.77      3.75      0.29     72.02     0.03   \n",
      "21   23           1.51736  12.78      3.62      1.29     72.79     0.59   \n",
      "22   24           1.51751  12.81      3.57      1.35     73.02     0.62   \n",
      "23   25           1.51720  13.38      3.50      1.15     72.85     0.50   \n",
      "24   26           1.51764  12.98      3.54      1.21     73.00     0.65   \n",
      "25   27           1.51793  13.21      3.48      1.41     72.64     0.59   \n",
      "26   28           1.51721  12.87      3.48      1.33     73.04     0.56   \n",
      "27   29           1.51768  12.56      3.52      1.43     73.15     0.57   \n",
      "28   30           1.51784  13.08      3.49      1.28     72.86     0.60   \n",
      "29   31           1.51768  12.65      3.56      1.30     73.08     0.61   \n",
      "..  ...               ...    ...       ...       ...       ...      ...   \n",
      "70   72           1.51848  13.64      3.87      1.27     71.96     0.54   \n",
      "71   73           1.51593  13.09      3.59      1.52     73.10     0.67   \n",
      "72   74           1.51631  13.34      3.57      1.57     72.87     0.61   \n",
      "73   75           1.51596  13.02      3.56      1.54     73.11     0.72   \n",
      "74   76           1.51590  13.02      3.58      1.51     73.12     0.69   \n",
      "75   77           1.51645  13.44      3.61      1.54     72.39     0.66   \n",
      "76   78           1.51627  13.00      3.58      1.54     72.83     0.61   \n",
      "77   79           1.51613  13.92      3.52      1.25     72.88     0.37   \n",
      "78   80           1.51590  12.82      3.52      1.90     72.86     0.69   \n",
      "79   81           1.51592  12.86      3.52      2.12     72.66     0.69   \n",
      "80   82           1.51593  13.25      3.45      1.43     73.17     0.61   \n",
      "81   83           1.51646  13.41      3.55      1.25     72.81     0.68   \n",
      "82   84           1.51594  13.09      3.52      1.55     72.87     0.68   \n",
      "83   85           1.51409  14.25      3.09      2.08     72.28     1.10   \n",
      "84   86           1.51625  13.36      3.58      1.49     72.72     0.45   \n",
      "85   87           1.51569  13.24      3.49      1.47     73.25     0.38   \n",
      "86   88           1.51645  13.40      3.49      1.52     72.65     0.67   \n",
      "87   89           1.51618  13.01      3.50      1.48     72.89     0.60   \n",
      "88   90           1.51640  12.55      3.48      1.87     73.23     0.63   \n",
      "89   91           1.51841  12.93      3.74      1.11     72.28     0.64   \n",
      "90   92           1.51605  12.90      3.44      1.45     73.06     0.44   \n",
      "91   93           1.51588  13.12      3.41      1.58     73.26     0.07   \n",
      "92   94           1.51590  13.24      3.34      1.47     73.10     0.39   \n",
      "93   95           1.51629  12.71      3.33      1.49     73.28     0.67   \n",
      "94   96           1.51860  13.36      3.43      1.43     72.26     0.51   \n",
      "95   97           1.51841  13.02      3.62      1.06     72.34     0.64   \n",
      "96   98           1.51743  12.20      3.25      1.16     73.55     0.62   \n",
      "97   99           1.51689  12.67      2.88      1.71     73.21     0.73   \n",
      "98  100           1.51811  12.96      2.96      1.43     72.92     0.60   \n",
      "99  101           1.51655  12.75      2.85      1.44     73.27     0.57   \n",
      "\n",
      "    Calcio  Barium  Ferro  tipo  \n",
      "0     7.83    0.00   0.00     1  \n",
      "1     7.78    0.00   0.00     1  \n",
      "2     8.22    0.00   0.00     1  \n",
      "3     8.07    0.00   0.00     1  \n",
      "4     8.07    0.00   0.26     1  \n",
      "5     8.17    0.00   0.00     1  \n",
      "6     8.24    0.00   0.00     1  \n",
      "7     8.30    0.00   0.00     1  \n",
      "8     8.40    0.00   0.11     1  \n",
      "9     8.09    0.00   0.24     1  \n",
      "10    8.56    0.00   0.00     1  \n",
      "11    8.05    0.00   0.24     1  \n",
      "12    8.38    0.00   0.17     1  \n",
      "13    8.50    0.00   0.00     1  \n",
      "14    8.39    0.00   0.00     1  \n",
      "15    8.70    0.00   0.00     1  \n",
      "16    9.15    0.00   0.00     1  \n",
      "17    8.89    0.00   0.00     1  \n",
      "18    8.44    0.00   0.07     1  \n",
      "19    8.52    0.00   0.19     1  \n",
      "20    9.00    0.00   0.00     1  \n",
      "21    8.70    0.00   0.00     1  \n",
      "22    8.59    0.00   0.00     1  \n",
      "23    8.43    0.00   0.00     1  \n",
      "24    8.53    0.00   0.00     1  \n",
      "25    8.43    0.00   0.00     1  \n",
      "26    8.43    0.00   0.00     1  \n",
      "27    8.54    0.00   0.00     1  \n",
      "28    8.49    0.00   0.00     1  \n",
      "29    8.69    0.00   0.14     1  \n",
      "..     ...     ...    ...   ...  \n",
      "70    8.32    0.00   0.32     2  \n",
      "71    7.83    0.00   0.00     2  \n",
      "72    7.89    0.00   0.00     2  \n",
      "73    7.90    0.00   0.00     2  \n",
      "74    7.96    0.00   0.00     2  \n",
      "75    8.03    0.00   0.00     2  \n",
      "76    8.04    0.00   0.00     2  \n",
      "77    7.94    0.00   0.14     2  \n",
      "78    7.97    0.00   0.00     2  \n",
      "79    7.97    0.00   0.00     2  \n",
      "80    7.86    0.00   0.00     2  \n",
      "81    8.10    0.00   0.00     2  \n",
      "82    8.05    0.00   0.09     2  \n",
      "83    7.08    0.00   0.00     2  \n",
      "84    8.21    0.00   0.00     2  \n",
      "85    8.03    0.00   0.00     2  \n",
      "86    8.08    0.00   0.10     2  \n",
      "87    8.12    0.00   0.00     2  \n",
      "88    8.08    0.00   0.09     2  \n",
      "89    8.96    0.00   0.22     2  \n",
      "90    8.27    0.00   0.00     2  \n",
      "91    8.39    0.00   0.19     2  \n",
      "92    8.22    0.00   0.00     2  \n",
      "93    8.24    0.00   0.00     2  \n",
      "94    8.60    0.00   0.00     2  \n",
      "95    9.13    0.00   0.15     2  \n",
      "96    8.90    0.00   0.24     2  \n",
      "97    8.54    0.00   0.00     2  \n",
      "98    8.79    0.14   0.00     2  \n",
      "99    8.79    0.11   0.22     2  \n",
      "\n",
      "[100 rows x 11 columns]\n",
      "<class 'pandas.core.frame.DataFrame'>\n",
      "RangeIndex: 213 entries, 0 to 212\n",
      "Data columns (total 11 columns):\n",
      "id                  213 non-null int64\n",
      "indice_refrativo    213 non-null float64\n",
      "sodio               213 non-null float64\n",
      "Magnesio            213 non-null float64\n",
      "Aluminio            213 non-null float64\n",
      "Silicone            213 non-null float64\n",
      "Potasio             213 non-null float64\n",
      "Calcio              213 non-null float64\n",
      "Barium              213 non-null float64\n",
      "Ferro               213 non-null float64\n",
      "tipo                213 non-null int64\n",
      "dtypes: float64(9), int64(2)\n",
      "memory usage: 18.4 KB\n",
      "Info:  None\n",
      "               id  indice_refrativo       sodio    Magnesio    Aluminio  \\\n",
      "count  213.000000        213.000000  213.000000  213.000000  213.000000   \n",
      "mean   108.000000          1.518353   13.406761    2.676056    1.446526   \n",
      "std     61.631972          0.003039    0.818371    1.440453    0.499882   \n",
      "min      2.000000          1.511150   10.730000    0.000000    0.290000   \n",
      "25%     55.000000          1.516520   12.900000    2.090000    1.190000   \n",
      "50%    108.000000          1.517680   13.300000    3.480000    1.360000   \n",
      "75%    161.000000          1.519150   13.830000    3.600000    1.630000   \n",
      "max    214.000000          1.533930   17.380000    3.980000    3.500000   \n",
      "\n",
      "         Silicone     Potasio      Calcio      Barium       Ferro        tipo  \n",
      "count  213.000000  213.000000  213.000000  213.000000  213.000000  213.000000  \n",
      "mean    72.655023    0.499108    8.957934    0.175869    0.057277    2.788732  \n",
      "std      0.774052    0.653035    1.426435    0.498245    0.097589    2.105130  \n",
      "min     69.810000    0.000000    5.430000    0.000000    0.000000    1.000000  \n",
      "25%     72.280000    0.130000    8.240000    0.000000    0.000000    1.000000  \n",
      "50%     72.790000    0.560000    8.600000    0.000000    0.000000    2.000000  \n",
      "75%     73.090000    0.610000    9.180000    0.000000    0.100000    3.000000  \n",
      "max     75.410000    6.210000   16.190000    3.150000    0.510000    7.000000  \n",
      "13.406760563380283\n",
      "17.38\n"
     ]
    }
   ],
   "source": [
    "df = pd.read_csv('glass_data.csv')\n",
    "\n",
    "df.columns = [\"id\", \"indice_refrativo\", \"sodio\", 'Magnesio', \"Aluminio\",\n",
    "              \"Silicone\", \"Potasio\", \"Calcio\", \"Barium\", \"Ferro\", \"tipo\"]\n",
    "\n",
    "#\n",
    "# df['tipo'] = df['tipo'].apply(lambda x: (0, 1)[x <= 4])\n",
    "\n",
    "#df_tipo = df['tipo']\n",
    "# Campos nulos: Nenhum\n",
    "# nulos = df.isna().sum()\n",
    "# print(\"Campos nulos: \",nulos)\n",
    "\n",
    "# tipos_colunas\n",
    "#print(\"Tipos colunas: \",tipos_colunas)\n",
    "#   df.dtypes\n",
    "\n",
    "# Linha x Colunas\n",
    "print(df.shape)\n",
    "\n",
    "print(df.head(100))\n",
    "#info:\n",
    "print(\"Info: \",df.info( ))\n",
    "# Descricao\n",
    "describe = df.describe()\n",
    "print(describe)\n",
    "\n",
    "media_sodio = df.sodio.mean()\n",
    "max_sodio = df.sodio.max()\n",
    "\n",
    "\n",
    "# print(\"Dados estatisticos das colunas: \")\n",
    "print(media_sodio)\n",
    "print(max_sodio)\n",
    "\n"
   ]
  },
  {
   "cell_type": "code",
   "execution_count": 103,
   "metadata": {},
   "outputs": [
    {
     "name": "stdout",
     "output_type": "stream",
     "text": [
      "Dados estatisticos das colunas: \n",
      "Media do sodio 13.406760563380283\n",
      "Max sodio 17.38\n",
      "tipo 2.788732394366197\n"
     ]
    }
   ],
   "source": [
    "\n",
    "media_sodio = df.sodio.mean()\n",
    "max_sodio = df.sodio.max()\n",
    "\n",
    "\n",
    "print(\"Dados estatisticos das colunas: \")\n",
    "print(\"Media do sodio\",media_sodio)\n",
    "print(\"Max sodio\",max_sodio)\n",
    "print(\"tipo\",df['tipo'].mean())"
   ]
  },
  {
   "cell_type": "code",
   "execution_count": 20,
   "metadata": {},
   "outputs": [
    {
     "data": {
      "text/plain": [
       "Text(0.5,1,'Count of Glass Types')"
      ]
     },
     "execution_count": 20,
     "metadata": {},
     "output_type": "execute_result"
    },
    {
     "data": {
      "image/png": "[encoded data removed]",
      "text/plain": [
       "<Figure size 1080x576 with 1 Axes>"
      ]
     },
     "metadata": {
      "needs_background": "light"
     },
     "output_type": "display_data"
    }
   ],
   "source": [
    "#sns.set(style=\"whitegrid\", font_scale=1.8)\n",
    "plt.subplots(figsize = (15,8))\n",
    "#df = pd.read_csv('glass_data.csv')\n",
    "# ax = plt.plot(df['tipo'])\n",
    "sns.countplot(x=\"tipo\", data=df).set_title('Count of Glass Types')"
   ]
  },
  {
   "cell_type": "code",
   "execution_count": 75,
   "metadata": {},
   "outputs": [],
   "source": [
    "grouBy = df.groupby('tipo',as_index=False).mean()"
   ]
  },
  {
   "cell_type": "code",
   "execution_count": 76,
   "metadata": {},
   "outputs": [
    {
     "data": {
      "text/html": [
       "<div>\n",
       "<style scoped>\n",
       "    .dataframe tbody tr th:only-of-type {\n",
       "        vertical-align: middle;\n",
       "    }\n",
       "\n",
       "    .dataframe tbody tr th {\n",
       "        vertical-align: top;\n",
       "    }\n",
       "\n",
       "    .dataframe thead th {\n",
       "        text-align: right;\n",
       "    }\n",
       "</style>\n",
       "<table border=\"1\" class=\"dataframe\">\n",
       "  <thead>\n",
       "    <tr style=\"text-align: right;\">\n",
       "      <th></th>\n",
       "      <th>tipo</th>\n",
       "      <th>id</th>\n",
       "      <th>indice_refrativo</th>\n",
       "      <th>sodio</th>\n",
       "      <th>Magnesio</th>\n",
       "      <th>Aluminio</th>\n",
       "      <th>Silicone</th>\n",
       "      <th>Potasion</th>\n",
       "      <th>Calcio</th>\n",
       "      <th>Barium</th>\n",
       "      <th>Ferro</th>\n",
       "    </tr>\n",
       "  </thead>\n",
       "  <tbody>\n",
       "    <tr>\n",
       "      <th>0</th>\n",
       "      <td>1</td>\n",
       "      <td>36.0</td>\n",
       "      <td>1.518685</td>\n",
       "      <td>13.236522</td>\n",
       "      <td>3.538841</td>\n",
       "      <td>1.164783</td>\n",
       "      <td>72.631304</td>\n",
       "      <td>0.453043</td>\n",
       "      <td>8.797971</td>\n",
       "      <td>0.012899</td>\n",
       "      <td>0.057826</td>\n",
       "    </tr>\n",
       "    <tr>\n",
       "      <th>1</th>\n",
       "      <td>2</td>\n",
       "      <td>108.5</td>\n",
       "      <td>1.518619</td>\n",
       "      <td>13.111711</td>\n",
       "      <td>3.002105</td>\n",
       "      <td>1.408158</td>\n",
       "      <td>72.598026</td>\n",
       "      <td>0.521053</td>\n",
       "      <td>9.073684</td>\n",
       "      <td>0.050263</td>\n",
       "      <td>0.079737</td>\n",
       "    </tr>\n",
       "    <tr>\n",
       "      <th>2</th>\n",
       "      <td>3</td>\n",
       "      <td>155.0</td>\n",
       "      <td>1.517964</td>\n",
       "      <td>13.437059</td>\n",
       "      <td>3.543529</td>\n",
       "      <td>1.201176</td>\n",
       "      <td>72.404706</td>\n",
       "      <td>0.406471</td>\n",
       "      <td>8.782941</td>\n",
       "      <td>0.008824</td>\n",
       "      <td>0.057059</td>\n",
       "    </tr>\n",
       "    <tr>\n",
       "      <th>3</th>\n",
       "      <td>5</td>\n",
       "      <td>170.0</td>\n",
       "      <td>1.518928</td>\n",
       "      <td>12.827692</td>\n",
       "      <td>0.773846</td>\n",
       "      <td>2.033846</td>\n",
       "      <td>72.366154</td>\n",
       "      <td>1.470000</td>\n",
       "      <td>10.123846</td>\n",
       "      <td>0.187692</td>\n",
       "      <td>0.060769</td>\n",
       "    </tr>\n",
       "    <tr>\n",
       "      <th>4</th>\n",
       "      <td>6</td>\n",
       "      <td>181.0</td>\n",
       "      <td>1.517456</td>\n",
       "      <td>14.646667</td>\n",
       "      <td>1.305556</td>\n",
       "      <td>1.366667</td>\n",
       "      <td>73.206667</td>\n",
       "      <td>0.000000</td>\n",
       "      <td>9.356667</td>\n",
       "      <td>0.000000</td>\n",
       "      <td>0.000000</td>\n",
       "    </tr>\n",
       "    <tr>\n",
       "      <th>5</th>\n",
       "      <td>7</td>\n",
       "      <td>200.0</td>\n",
       "      <td>1.517116</td>\n",
       "      <td>14.442069</td>\n",
       "      <td>0.538276</td>\n",
       "      <td>2.122759</td>\n",
       "      <td>72.965862</td>\n",
       "      <td>0.325172</td>\n",
       "      <td>8.491379</td>\n",
       "      <td>1.040000</td>\n",
       "      <td>0.013448</td>\n",
       "    </tr>\n",
       "  </tbody>\n",
       "</table>\n",
       "</div>"
      ],
      "text/plain": [
       "   tipo     id  indice_refrativo      sodio  Magnesio  Aluminio   Silicone  \\\n",
       "0     1   36.0          1.518685  13.236522  3.538841  1.164783  72.631304   \n",
       "1     2  108.5          1.518619  13.111711  3.002105  1.408158  72.598026   \n",
       "2     3  155.0          1.517964  13.437059  3.543529  1.201176  72.404706   \n",
       "3     5  170.0          1.518928  12.827692  0.773846  2.033846  72.366154   \n",
       "4     6  181.0          1.517456  14.646667  1.305556  1.366667  73.206667   \n",
       "5     7  200.0          1.517116  14.442069  0.538276  2.122759  72.965862   \n",
       "\n",
       "   Potasion     Calcio    Barium     Ferro  \n",
       "0  0.453043   8.797971  0.012899  0.057826  \n",
       "1  0.521053   9.073684  0.050263  0.079737  \n",
       "2  0.406471   8.782941  0.008824  0.057059  \n",
       "3  1.470000  10.123846  0.187692  0.060769  \n",
       "4  0.000000   9.356667  0.000000  0.000000  \n",
       "5  0.325172   8.491379  1.040000  0.013448  "
      ]
     },
     "execution_count": 76,
     "metadata": {},
     "output_type": "execute_result"
    }
   ],
   "source": [
    "grouBy\n"
   ]
  },
  {
   "cell_type": "code",
   "execution_count": 23,
   "metadata": {},
   "outputs": [
    {
     "data": {
      "image/png": "[encoded data removed]",
      "text/plain": [
       "<Figure size 1440x1080 with 9 Axes>"
      ]
     },
     "metadata": {},
     "output_type": "display_data"
    }
   ],
   "source": [
    "sns.set(style=\"whitegrid\", font_scale=1.2)\n",
    "plt.subplots(figsize=(20, 15))\n",
    "plt.subplot(3, 3, 1)\n",
    "sns.boxplot(x='tipo', y='indice_refrativo', data=df)\n",
    "plt.subplot(3, 3, 2)\n",
    "sns.boxplot(x='tipo', y='sodio', data=df)\n",
    "plt.subplot(3, 3, 3)\n",
    "sns.boxplot(x='tipo', y='Magnesio', data=df)\n",
    "plt.subplot(3, 3, 4)\n",
    "sns.boxplot(x='tipo', y='Aluminio', data=df)\n",
    "plt.subplot(3, 3, 5)\n",
    "sns.boxplot(x='tipo', y='Silicone', data=df)\n",
    "plt.subplot(3, 3, 6)\n",
    "sns.boxplot(x='tipo', y='Potasio', data=df)\n",
    "plt.subplot(3, 3, 7)\n",
    "sns.boxplot(x='tipo', y='Calcio', data=df)\n",
    "plt.subplot(3, 3, 8)\n",
    "sns.boxplot(x='tipo', y='Barium', data=df)\n",
    "plt.subplot(3, 3, 9)\n",
    "sns.boxplot(x='tipo', y='Ferro', data=df)\n",
    "plt.show()\n"
   ]
  },
  {
   "cell_type": "code",
   "execution_count": 89,
   "metadata": {},
   "outputs": [
    {
     "name": "stdout",
     "output_type": "stream",
     "text": [
      "                            P1    P2    P3    P4    P5   P6    P7   P8   P9\n",
      "Variancia por Componente  3.01  1.66  0.68  0.65  0.21  0.1  0.01  0.0  0.0\n"
     ]
    },
    {
     "data": {
      "image/png": "[encoded data removed]",
      "text/plain": [
       "<Figure size 864x504 with 1 Axes>"
      ]
     },
     "metadata": {
      "needs_background": "light"
     },
     "output_type": "display_data"
    }
   ],
   "source": [
    "# Performing PCA\n",
    "X = df[['indice_refrativo','sodio','Magnesio','Aluminio','Silicone','Potasio','Calcio','Barium','Ferro']]\n",
    "pca = PCA(random_state = 1)\n",
    "pca.fit(X)\n",
    "variancia_expl = pca.explained_variance_ratio_\n",
    "cum_var_expl = np.cumsum(variancia_expl)\n",
    "variancia_df = pd.DataFrame(pca.explained_variance_.round(2), index=[\"P\" + str(i) for i in range(1,10)],\n",
    "                      columns=[\"Variancia por Componente\"])\n",
    "print(variancia_df.T)\n",
    "plt.figure(figsize=(12,7))\n",
    "plt.bar(range(1,len(cum_var_expl)+1), variancia_expl, align= 'center', label= 'individual variancia', color='teal', alpha = 0.8)\n",
    "plt.step(range(1,len(cum_var_expl)+1), cum_var_expl, where = 'mid' , label= 'cumulativa variance', color='red')\n",
    "plt.ylabel('Relacao de variancia Explicada ')\n",
    "plt.xlabel('Principais componentes')\n",
    "plt.xticks(np.arange(1,len(variancia_expl)+1,1))\n",
    "plt.legend(loc='center right')\n",
    "plt.show()\n"
   ]
  },
  {
   "cell_type": "code",
   "execution_count": 92,
   "metadata": {},
   "outputs": [
    {
     "name": "stdout",
     "output_type": "stream",
     "text": [
      "[1 2 3 5 6 7]\n",
      "[1 2 3 5 6 7]\n"
     ]
    }
   ],
   "source": [
    "pca_red = PCA(n_components=5)\n",
    "X_reduced = pca_red.fit_transform(X)\n",
    "\n",
    "x = X_reduced\n",
    "y = df['tipo'].values\n",
    "\n",
    "X_train, X_test,y_train,y_test = train_test_split(x,y,test_size=.3,random_state=25)\n",
    "\n",
    "print(np.unique(y_train))\n",
    "print(np.unique(y_test))\n"
   ]
  },
  {
   "cell_type": "code",
   "execution_count": 93,
   "metadata": {},
   "outputs": [
    {
     "data": {
      "text/plain": [
       "0.609375"
      ]
     },
     "execution_count": 93,
     "metadata": {},
     "output_type": "execute_result"
    }
   ],
   "source": [
    "\n",
    "# modelo = MultinomialNB()\n",
    "# modelo.fit(X_train,y_train)\n",
    "\n",
    "\n",
    "#Random Forest\n",
    "\n",
    "classificador = RandomForestClassifier(n_estimators=100,max_depth=2,random_state=0)\n",
    "\n",
    "classificador.fit(X_train,y_train)\n",
    "classificador.score(X_test,y_test)\n",
    "\n",
    "\n",
    "\n",
    "#Gaussi\n",
    "gausiNb = GaussianNB()\n",
    "\n",
    "gausiNb.fit(X_train,y_train)\n",
    "gausiNb.score(X_test,y_test)\n",
    "\n",
    "\n",
    "adaBoost =  AdaBoostClassifier(DecisionTreeClassifier(max_depth=1),\n",
    "                         algorithm=\"SAMME\",\n",
    "                         n_estimators=200)\n",
    "\n",
    "adaBoost.fit(X_train,y_train)\n",
    "adaBoost.score(X_test,y_test) "
   ]
  },
  {
   "cell_type": "code",
   "execution_count": 94,
   "metadata": {},
   "outputs": [
    {
     "data": {
      "text/html": [
       "<div>\n",
       "<style scoped>\n",
       "    .dataframe tbody tr th:only-of-type {\n",
       "        vertical-align: middle;\n",
       "    }\n",
       "\n",
       "    .dataframe tbody tr th {\n",
       "        vertical-align: top;\n",
       "    }\n",
       "\n",
       "    .dataframe thead th {\n",
       "        text-align: right;\n",
       "    }\n",
       "</style>\n",
       "<table border=\"1\" class=\"dataframe\">\n",
       "  <thead>\n",
       "    <tr style=\"text-align: right;\">\n",
       "      <th></th>\n",
       "      <th>Model</th>\n",
       "      <th>Accuracy</th>\n",
       "    </tr>\n",
       "  </thead>\n",
       "  <tbody>\n",
       "    <tr>\n",
       "      <th>0</th>\n",
       "      <td>Support Vector Machine</td>\n",
       "      <td>0.734375</td>\n",
       "    </tr>\n",
       "    <tr>\n",
       "      <th>1</th>\n",
       "      <td>Decision Tree</td>\n",
       "      <td>0.656250</td>\n",
       "    </tr>\n",
       "    <tr>\n",
       "      <th>2</th>\n",
       "      <td>Random Forest</td>\n",
       "      <td>0.765625</td>\n",
       "    </tr>\n",
       "    <tr>\n",
       "      <th>3</th>\n",
       "      <td>AdaBoost</td>\n",
       "      <td>0.765625</td>\n",
       "    </tr>\n",
       "  </tbody>\n",
       "</table>\n",
       "</div>"
      ],
      "text/plain": [
       "                    Model  Accuracy\n",
       "0  Support Vector Machine  0.734375\n",
       "1           Decision Tree  0.656250\n",
       "2           Random Forest  0.765625\n",
       "3                AdaBoost  0.765625"
      ]
     },
     "execution_count": 94,
     "metadata": {},
     "output_type": "execute_result"
    }
   ],
   "source": [
    "#Algoritmo SVC\n",
    "\n",
    "svm = SVC()\n",
    "svm.fit(X_train,y_train)\n",
    "y_predict  = svm.predict(X_test)\n",
    "\n",
    "metrica_svm = metrics.accuracy_score(y_predict,y_test)\n",
    "\n",
    "\n",
    "#algoritmo Decision Tree\n",
    "dec_tree = DecisionTreeClassifier()\n",
    "dec_tree.fit(X_train, y_train)\n",
    "y_predict = dec_tree.predict(X_test)\n",
    "\n",
    "metrica_dctree = metrics.accuracy_score(y_predict, y_test)\n",
    "\n",
    "\n",
    "\n",
    "#algoritmo Random Forest\n",
    "rand_for = RandomForestClassifier(max_depth=3, min_samples_split=2, n_estimators=50, random_state=1)\n",
    "rand_for.fit(X_train, y_train)\n",
    "y_predict = rand_for.predict(X_test)\n",
    "metric_random = metrics.accuracy_score(y_predict, y_test)\n",
    "\n",
    "\n",
    "#Adaboost\n",
    "adaBoost =  AdaBoostClassifier(DecisionTreeClassifier(max_depth=1),\n",
    "                         algorithm=\"SAMME\",\n",
    "                         n_estimators=200)\n",
    "\n",
    "adaBoost.fit(X_train,y_train)\n",
    "adaBoost.score(X_test,y_test) \n",
    "metric_ada = metrics.accuracy_score(y_predict, y_test)\n",
    "\n",
    "\n",
    "\n",
    "pd.DataFrame([['Support Vector Machine', metrica_svm],\n",
    "                             ['Decision Tree', metrica_dctree], ['Random Forest', metric_random],['AdaBoost',metric_ada]],\n",
    "                                 columns=['Model', 'Accuracy'])"
   ]
  },
  {
   "cell_type": "code",
   "execution_count": 95,
   "metadata": {},
   "outputs": [
    {
     "data": {
      "text/plain": [
       "Text(201.86,0.5,'predicted label')"
      ]
     },
     "execution_count": 95,
     "metadata": {},
     "output_type": "execute_result"
    },
    {
     "data": {
      "image/png": "[encoded data removed]",
      "text/plain": [
       "<Figure size 864x576 with 1 Axes>"
      ]
     },
     "metadata": {
      "needs_background": "light"
     },
     "output_type": "display_data"
    }
   ],
   "source": [
    "matriz_confusion = confusion_matrix(y_test,y_predict)\n",
    "plt.subplots(figsize=(12, 8))\n",
    "sns.heatmap(matriz_confusion.T, square=True, annot=True, fmt='d', cbar=False)\n",
    "plt.xlabel('label')\n",
    "plt.ylabel('predicted label')"
   ]
  },
  {
   "cell_type": "code",
   "execution_count": 96,
   "metadata": {},
   "outputs": [
    {
     "name": "stdout",
     "output_type": "stream",
     "text": [
      "[[21  1  0  0  0  0]\n",
      " [ 6 19  0  0  0  0]\n",
      " [ 3  0  0  0  0  0]\n",
      " [ 1  1  0  0  0  1]\n",
      " [ 1  1  0  0  0  0]\n",
      " [ 1  0  0  0  0  8]]\n",
      "[[20  1  1  0  0  0]\n",
      " [18  5  0  1  1  0]\n",
      " [ 3  0  0  0  0  0]\n",
      " [ 0  2  0  1  0  0]\n",
      " [ 0  2  0  0  0  0]\n",
      " [ 1  0  0  0  0  8]]\n",
      "[[17  4  1  0  0  0]\n",
      " [10 13  0  1  1  0]\n",
      " [ 3  0  0  0  0  0]\n",
      " [ 0  0  0  2  1  0]\n",
      " [ 0  0  0  0  2  0]\n",
      " [ 1  0  0  0  3  5]]\n"
     ]
    }
   ],
   "source": [
    "print(confusion_matrix(y_test,classificador.predict(X_test)))\n",
    "print(confusion_matrix(y_test,gausiNb.predict(X_test)))\n",
    "print(confusion_matrix(y_test,adaBoost.predict(X_test)))\n"
   ]
  },
  {
   "cell_type": "code",
   "execution_count": 98,
   "metadata": {},
   "outputs": [
    {
     "name": "stdout",
     "output_type": "stream",
     "text": [
      "             precision    recall  f1-score   support\n",
      "\n",
      "          1       0.67      1.00      0.80        22\n",
      "          2       0.85      0.68      0.76        25\n",
      "          3       0.00      0.00      0.00         3\n",
      "          5       1.00      0.33      0.50         3\n",
      "          6       0.50      0.50      0.50         2\n",
      "          7       1.00      0.89      0.94         9\n",
      "\n",
      "avg / total       0.76      0.77      0.74        64\n",
      "\n"
     ]
    }
   ],
   "source": [
    "print(classification_report(y_test,y_predict))\n"
   ]
  }
 ],
 "metadata": {
  "kernelspec": {
   "display_name": "Python 3",
   "language": "python",
   "name": "python3"
  },
  "language_info": {
   "codemirror_mode": {
    "name": "ipython",
    "version": 3
   },
   "file_extension": ".py",
   "mimetype": "text/x-python",
   "name": "python",
   "nbconvert_exporter": "python",
   "pygments_lexer": "ipython3",
   "version": "3.6.7"
  }
 },
 "nbformat": 4,
 "nbformat_minor": 2
}
